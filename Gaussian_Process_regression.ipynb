        "    log_det = 2 * np.sum(np.log(np.diag(Lxx)))\n",
        "    return 0.5 * ((y - m).T @ a + log_det + X.shape[0] * np.log(2 * math.pi))"
        "    return np.exp((-cdist(x1, x2)**2) / (2*l**2))\n",
        "    return var_f * np.exp((-cdist(x1, x2)**2) / (2*l**2)) * (cdist(x1, x2)**2) / (l**3)\n",
        "    \"\"\"Gradient of SE kernel wrt the noise variance s_n\"\"\"\n",
        "    return np.eye(x1.shape[0])"
